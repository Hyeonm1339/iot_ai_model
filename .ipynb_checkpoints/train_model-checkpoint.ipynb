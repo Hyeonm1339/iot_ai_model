{
 "cells": [
  {
   "cell_type": "code",
   "execution_count": null,
   "id": "826f8cbe-bb3a-4c5c-829d-7a2caa9202df",
   "metadata": {},
   "outputs": [
    {
     "name": "stdout",
     "output_type": "stream",
     "text": [
      "2022-11-16 12:57:38.633505: I tensorflow/core/platform/cpu_feature_guard.cc:142] This TensorFlow binary is optimized with oneAPI Deep Neural Network Library (oneDNN) to use the following CPU instructions in performance-critical operations:  AVX2 AVX512F FMA\n",
      "To enable them in other operations, rebuild TensorFlow with the appropriate compiler flags.\n",
      "2022-11-16 12:57:39.102050: I tensorflow/core/common_runtime/gpu/gpu_device.cc:1510] Created device /job:localhost/replica:0/task:0/device:GPU:0 with 9658 MB memory:  -> device: 0, name: NVIDIA GeForce RTX 2080 Ti, pci bus id: 0000:65:00.0, compute capability: 7.5\n",
      "2022-11-16 12:57:40.016305: I tensorflow/stream_executor/cuda/cuda_dnn.cc:369] Loaded cuDNN version 8500\n",
      "0it [00:00, ?it/s]2022-11-16 12:57:40.937575: I tensorflow/compiler/mlir/mlir_graph_optimization_pass.cc:185] None of the MLIR Optimization Passes are enabled (registered 2)\n"
     ]
    }
   ],
   "source": [
    "!python3 ./model/tensorflow/ssd/train.py --anno-path dataset/digital_digit/anno_digit_new.txt \\\n",
    "--checkpoint-dir check_points/ssd-digit \\\n",
    "--num-epochs 100 \\\n",
    "--initial-lr 0.001"
   ]
  },
  {
   "cell_type": "markdown",
   "id": "ed056689-f945-453b-a3ab-7036851fe58e",
   "metadata": {},
   "source": [
    "# Predict"
   ]
  },
  {
   "cell_type": "code",
   "execution_count": 21,
   "id": "420a42cc-5f6b-4cf6-9889-40b803215c5e",
   "metadata": {},
   "outputs": [
    {
     "ename": "ModuleNotFoundError",
     "evalue": "No module named 'resnet'",
     "output_type": "error",
     "traceback": [
      "\u001b[0;31m---------------------------------------------------------------------------\u001b[0m",
      "\u001b[0;31mModuleNotFoundError\u001b[0m                       Traceback (most recent call last)",
      "\u001b[0;32m<ipython-input-21-7e6a56040a0d>\u001b[0m in \u001b[0;36m<module>\u001b[0;34m\u001b[0m\n\u001b[0;32m----> 1\u001b[0;31m \u001b[0;32mfrom\u001b[0m \u001b[0mmodel\u001b[0m\u001b[0;34m.\u001b[0m\u001b[0mtensorflow\u001b[0m\u001b[0;34m.\u001b[0m\u001b[0mssd\u001b[0m\u001b[0;34m.\u001b[0m\u001b[0mnetwork\u001b[0m \u001b[0;32mimport\u001b[0m \u001b[0mcreate_ssd\u001b[0m\u001b[0;34m\u001b[0m\u001b[0;34m\u001b[0m\u001b[0m\n\u001b[0m",
      "\u001b[0;32m/home/workspace/iot_ai_model/model/tensorflow/ssd/network.py\u001b[0m in \u001b[0;36m<module>\u001b[0;34m\u001b[0m\n\u001b[1;32m      6\u001b[0m \u001b[0;32mimport\u001b[0m \u001b[0mos\u001b[0m\u001b[0;34m\u001b[0m\u001b[0;34m\u001b[0m\u001b[0m\n\u001b[1;32m      7\u001b[0m \u001b[0;34m\u001b[0m\u001b[0m\n\u001b[0;32m----> 8\u001b[0;31m \u001b[0;32mfrom\u001b[0m \u001b[0mresnet\u001b[0m \u001b[0;32mimport\u001b[0m \u001b[0mcreate_resnet18_layers\u001b[0m\u001b[0;34m\u001b[0m\u001b[0;34m\u001b[0m\u001b[0m\n\u001b[0m\u001b[1;32m      9\u001b[0m \u001b[0;34m\u001b[0m\u001b[0m\n\u001b[1;32m     10\u001b[0m \u001b[0;32mfrom\u001b[0m \u001b[0mlayers\u001b[0m \u001b[0;32mimport\u001b[0m \u001b[0mcreate_vgg16_layers\u001b[0m\u001b[0;34m,\u001b[0m \u001b[0mcreate_extra_layers\u001b[0m\u001b[0;34m,\u001b[0m \u001b[0mcreate_conf_head_layers\u001b[0m\u001b[0;34m,\u001b[0m \u001b[0mcreate_loc_head_layers\u001b[0m\u001b[0;34m\u001b[0m\u001b[0;34m\u001b[0m\u001b[0m\n",
      "\u001b[0;31mModuleNotFoundError\u001b[0m: No module named 'resnet'"
     ]
    }
   ],
   "source": [
    "from model.tensorflow.ssd.network import create_ssd"
   ]
  },
  {
   "cell_type": "code",
   "execution_count": null,
   "id": "4f4286e5-1a9d-484c-b6e3-9b45751be6e0",
   "metadata": {},
   "outputs": [],
   "source": [
    "file_paths = ['']\n",
    "IMAGE_SIZE = 300"
   ]
  },
  {
   "cell_type": "code",
   "execution_count": null,
   "id": "b27af034-9172-4e2b-a92a-763646b4ee67",
   "metadata": {},
   "outputs": [],
   "source": [
    "model = create_ssd(num_classes=11, arch='ssd300', pretrained_type=None, checkpoint_path='check_points/ssd/ssd_epoch_latest.h5')"
   ]
  },
  {
   "cell_type": "code",
   "execution_count": null,
   "id": "a5a16fb2-38ff-46d7-ac75-18dbc9328a69",
   "metadata": {},
   "outputs": [],
   "source": [
    "org_img = Image.open(filename)\n",
    "img = np.array(org_img.resize((IMAGE_SIZE, IMAGE_SIZE)), dtype=np.float32)\n",
    "img = (img / 127.0) - 1.0\n",
    "img = img.reshape(1,img.shape[0],img.shape[1],img.shape[2])\n",
    "confs, locs = model(img)"
   ]
  }
 ],
 "metadata": {
  "kernelspec": {
   "display_name": "Python 3",
   "language": "python",
   "name": "python3"
  },
  "language_info": {
   "codemirror_mode": {
    "name": "ipython",
    "version": 3
   },
   "file_extension": ".py",
   "mimetype": "text/x-python",
   "name": "python",
   "nbconvert_exporter": "python",
   "pygments_lexer": "ipython3",
   "version": "3.6.9"
  }
 },
 "nbformat": 4,
 "nbformat_minor": 5
}
