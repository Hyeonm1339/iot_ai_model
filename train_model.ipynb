{
 "cells": [
  {
   "cell_type": "code",
   "execution_count": 5,
   "id": "826f8cbe-bb3a-4c5c-829d-7a2caa9202df",
   "metadata": {},
   "outputs": [
    {
     "name": "stdout",
     "output_type": "stream",
     "text": [
      "2022-11-17 08:47:20.062074: I tensorflow/core/platform/cpu_feature_guard.cc:142] This TensorFlow binary is optimized with oneAPI Deep Neural Network Library (oneDNN) to use the following CPU instructions in performance-critical operations:  AVX2 AVX512F FMA\n",
      "To enable them in other operations, rebuild TensorFlow with the appropriate compiler flags.\n",
      "2022-11-17 08:47:20.527722: I tensorflow/core/common_runtime/gpu/gpu_device.cc:1510] Created device /job:localhost/replica:0/task:0/device:GPU:0 with 9658 MB memory:  -> device: 0, name: NVIDIA GeForce RTX 2080 Ti, pci bus id: 0000:65:00.0, compute capability: 7.5\n",
      "2022-11-17 08:47:21.446995: I tensorflow/stream_executor/cuda/cuda_dnn.cc:369] Loaded cuDNN version 8500\n",
      "0it [00:00, ?it/s]2022-11-17 08:47:22.364411: I tensorflow/compiler/mlir/mlir_graph_optimization_pass.cc:185] None of the MLIR Optimization Passes are enabled (registered 2)\n",
      "Epoch: 1 Batch 7 Time: 1.5e+01s | Loss: 15.9958 Conf: 11.9402 Loc: 2.0649: : 7it [00:14,  2.10s/it]\n",
      "Epoch: 2 Batch 7 Time: 8.7s | Loss: 12.3434 Conf: 8.7108 Loc: 1.7846: : 7it [00:08,  1.24s/it]\n",
      "Epoch: 3 Batch 7 Time: 8.8s | Loss: 10.1084 Conf: 6.7982 Loc: 1.5609: : 7it [00:08,  1.26s/it]\n",
      "Epoch: 4 Batch 7 Time: 9.1s | Loss: 8.9017 Conf: 5.9129 Loc: 1.3138: : 7it [00:09,  1.30s/it]\n",
      "Epoch: 5 Batch 7 Time: 9.0s | Loss: 7.8625 Conf: 5.1069 Loc: 1.1369: : 7it [00:08,  1.28s/it]\n",
      "Epoch: 6 Batch 7 Time: 9.1s | Loss: 6.9438 Conf: 4.3123 Loc: 1.0561: : 7it [00:09,  1.30s/it]\n",
      "Epoch: 7 Batch 7 Time: 8.4s | Loss: 6.3773 Conf: 3.8503 Loc: 0.9864: : 7it [00:08,  1.21s/it]\n",
      "Epoch: 8 Batch 7 Time: 8.7s | Loss: 6.1377 Conf: 3.7067 Loc: 0.9200: : 7it [00:08,  1.24s/it]\n",
      "Epoch: 9 Batch 7 Time: 8.3s | Loss: 5.8892 Conf: 3.5460 Loc: 0.8583: : 7it [00:08,  1.18s/it]\n",
      "Epoch: 10 Batch 7 Time: 8.8s | Loss: 5.6155 Conf: 3.3522 Loc: 0.8016: : 7it [00:08,  1.25s/it]\n",
      "Epoch: 11 Batch 7 Time: 8.8s | Loss: 5.1966 Conf: 3.0741 Loc: 0.6814: : 7it [00:08,  1.26s/it]\n",
      "Epoch: 12 Batch 7 Time: 8.5s | Loss: 4.7867 Conf: 2.7751 Loc: 0.5889: : 7it [00:08,  1.21s/it]\n",
      "Epoch: 13 Batch 7 Time: 9.1s | Loss: 4.3531 Conf: 2.4438 Loc: 0.5030: : 7it [00:09,  1.30s/it]\n",
      "Epoch: 14 Batch 7 Time: 9.0s | Loss: 4.0447 Conf: 2.1988 Loc: 0.4545: : 7it [00:08,  1.28s/it]\n",
      "Epoch: 15 Batch 7 Time: 8.9s | Loss: 3.9289 Conf: 2.1369 Loc: 0.4146: : 7it [00:08,  1.27s/it]\n",
      "Epoch: 16 Batch 7 Time: 8.9s | Loss: 3.6640 Conf: 1.9600 Loc: 0.3393: : 7it [00:08,  1.27s/it]\n",
      "Epoch: 17 Batch 7 Time: 8.3s | Loss: 3.3870 Conf: 1.7738 Loc: 0.2603: : 7it [00:08,  1.19s/it]\n",
      "Epoch: 18 Batch 7 Time: 8.9s | Loss: 3.1994 Conf: 1.6110 Loc: 0.2468: : 7it [00:08,  1.27s/it]\n",
      "Epoch: 19 Batch 7 Time: 8.9s | Loss: 3.0227 Conf: 1.4800 Loc: 0.2119: : 7it [00:08,  1.27s/it]\n",
      "Epoch: 20 Batch 7 Time: 8.9s | Loss: 2.8781 Conf: 1.3798 Loc: 0.1778: : 7it [00:08,  1.27s/it]\n",
      "Epoch: 21 Batch 7 Time: 9.0s | Loss: 2.7483 Conf: 1.2846 Loc: 0.1532: : 7it [00:08,  1.29s/it]\n",
      "Epoch: 22 Batch 7 Time: 9.0s | Loss: 2.6619 Conf: 1.2234 Loc: 0.1375: : 7it [00:09,  1.29s/it]\n",
      "Epoch: 23 Batch 7 Time: 8.7s | Loss: 2.5796 Conf: 1.1648 Loc: 0.1232: : 7it [00:08,  1.25s/it]\n",
      "Epoch: 24 Batch 7 Time: 8.9s | Loss: 2.5968 Conf: 1.1523 Loc: 0.1618: : 7it [00:08,  1.27s/it]\n",
      "Epoch: 25 Batch 7 Time: 8.8s | Loss: 2.4898 Conf: 1.0678 Loc: 0.1480: : 7it [00:08,  1.25s/it]\n",
      "Epoch: 26 Batch 7 Time: 8.8s | Loss: 2.4458 Conf: 1.0479 Loc: 0.1322: : 7it [00:08,  1.25s/it]\n",
      "Epoch: 27 Batch 7 Time: 8.6s | Loss: 2.3748 Conf: 0.9931 Loc: 0.1243: : 7it [00:08,  1.22s/it]\n",
      "Epoch: 28 Batch 7 Time: 8.6s | Loss: 2.3261 Conf: 0.9508 Loc: 0.1258: : 7it [00:08,  1.23s/it]\n",
      "Epoch: 29 Batch 7 Time: 8.5s | Loss: 2.2578 Conf: 0.8943 Loc: 0.1217: : 7it [00:08,  1.21s/it]\n",
      "Epoch: 30 Batch 7 Time: 8.2s | Loss: 2.2394 Conf: 0.8655 Loc: 0.1397: : 7it [00:08,  1.17s/it]\n",
      "Epoch: 31 Batch 7 Time: 8.9s | Loss: 2.1660 Conf: 0.8136 Loc: 0.1255: : 7it [00:08,  1.27s/it]\n",
      "Epoch: 32 Batch 7 Time: 8.7s | Loss: 2.0995 Conf: 0.7706 Loc: 0.1091: : 7it [00:08,  1.24s/it]\n",
      "Epoch: 33 Batch 7 Time: 8.6s | Loss: 2.0738 Conf: 0.7366 Loc: 0.1244: : 7it [00:08,  1.22s/it]\n",
      "Epoch: 34 Batch 7 Time: 8.4s | Loss: 2.0126 Conf: 0.6783 Loc: 0.1284: : 7it [00:08,  1.20s/it]\n",
      "Epoch: 35 Batch 7 Time: 8.6s | Loss: 1.9585 Conf: 0.6503 Loc: 0.1090: : 7it [00:08,  1.23s/it]\n",
      "Epoch: 36 Batch 7 Time: 8.9s | Loss: 1.9274 Conf: 0.6099 Loc: 0.1249: : 7it [00:08,  1.27s/it]\n",
      "Epoch: 37 Batch 7 Time: 8.4s | Loss: 2.0272 Conf: 0.6882 Loc: 0.1529: : 7it [00:08,  1.19s/it]\n",
      "Epoch: 38 Batch 7 Time: 8.9s | Loss: 1.8908 Conf: 0.5847 Loc: 0.1264: : 7it [00:08,  1.27s/it]\n",
      "Epoch: 39 Batch 7 Time: 8.9s | Loss: 1.8100 Conf: 0.5312 Loc: 0.1052: : 7it [00:08,  1.28s/it]\n",
      "Epoch: 40 Batch 7 Time: 8.9s | Loss: 1.7703 Conf: 0.5118 Loc: 0.0911: : 7it [00:08,  1.27s/it]\n",
      "Epoch: 41 Batch 7 Time: 8.9s | Loss: 1.7438 Conf: 0.4835 Loc: 0.0990: : 7it [00:08,  1.28s/it]\n",
      "Epoch: 42 Batch 7 Time: 8.7s | Loss: 1.7007 Conf: 0.4556 Loc: 0.0899: : 7it [00:08,  1.25s/it]\n",
      "Epoch: 43 Batch 7 Time: 8.7s | Loss: 1.6555 Conf: 0.4234 Loc: 0.0828: : 7it [00:08,  1.25s/it]\n",
      "Epoch: 44 Batch 7 Time: 9.0s | Loss: 1.6304 Conf: 0.3997 Loc: 0.0873: : 7it [00:08,  1.29s/it]\n",
      "Epoch: 45 Batch 7 Time: 9.0s | Loss: 1.6697 Conf: 0.4192 Loc: 0.1130: : 7it [00:09,  1.29s/it]\n",
      "Epoch: 46 Batch 7 Time: 7.9s | Loss: 1.6539 Conf: 0.4252 Loc: 0.0969: : 7it [00:07,  1.12s/it]\n",
      "Epoch: 47 Batch 7 Time: 8.3s | Loss: 1.6823 Conf: 0.4470 Loc: 0.1092: : 7it [00:08,  1.18s/it]\n",
      "Epoch: 48 Batch 7 Time: 8.8s | Loss: 1.6230 Conf: 0.3982 Loc: 0.1043: : 7it [00:08,  1.26s/it]\n",
      "Epoch: 49 Batch 7 Time: 8.6s | Loss: 1.6077 Conf: 0.3829 Loc: 0.1098: : 7it [00:08,  1.24s/it]\n",
      "Epoch: 50 Batch 7 Time: 9.0s | Loss: 1.5449 Conf: 0.3396 Loc: 0.0957: : 7it [00:08,  1.29s/it]\n",
      "Epoch: 51 Batch 7 Time: 8.6s | Loss: 1.5051 Conf: 0.3244 Loc: 0.0765: : 7it [00:08,  1.23s/it]\n",
      "Epoch: 52 Batch 7 Time: 8.6s | Loss: 1.4638 Conf: 0.2963 Loc: 0.0687: : 7it [00:08,  1.23s/it]\n",
      "Epoch: 53 Batch 7 Time: 8.3s | Loss: 1.4649 Conf: 0.3040 Loc: 0.0673: : 7it [00:08,  1.18s/it]\n",
      "Epoch: 54 Batch 7 Time: 8.9s | Loss: 1.5520 Conf: 0.3639 Loc: 0.0998: : 7it [00:08,  1.27s/it]\n",
      "Epoch: 55 Batch 7 Time: 8.9s | Loss: 1.5720 Conf: 0.3725 Loc: 0.1163: : 7it [00:08,  1.28s/it]\n",
      "Epoch: 56 Batch 7 Time: 9.1s | Loss: 1.5148 Conf: 0.3386 Loc: 0.0980: : 7it [00:09,  1.29s/it]\n",
      "Epoch: 57 Batch 7 Time: 8.8s | Loss: 1.4655 Conf: 0.3131 Loc: 0.0792: : 7it [00:08,  1.25s/it]\n",
      "Epoch: 58 Batch 7 Time: 8.8s | Loss: 1.4341 Conf: 0.2954 Loc: 0.0696: : 7it [00:08,  1.25s/it]\n",
      "Epoch: 59 Batch 7 Time: 8.8s | Loss: 1.3813 Conf: 0.2617 Loc: 0.0513: : 7it [00:08,  1.26s/it]\n",
      "Epoch: 60 Batch 7 Time: 9.0s | Loss: 1.3654 Conf: 0.2502 Loc: 0.0474: : 7it [00:08,  1.28s/it]\n",
      "Epoch: 61 Batch 7 Time: 9.0s | Loss: 1.3522 Conf: 0.2404 Loc: 0.0444: : 7it [00:09,  1.29s/it]\n",
      "Epoch: 62 Batch 7 Time: 8.3s | Loss: 1.3447 Conf: 0.2368 Loc: 0.0411: : 7it [00:08,  1.19s/it]\n",
      "Epoch: 63 Batch 7 Time: 8.6s | Loss: 1.3552 Conf: 0.2468 Loc: 0.0421: : 7it [00:08,  1.23s/it]\n",
      "Epoch: 64 Batch 7 Time: 9.0s | Loss: 1.3511 Conf: 0.2443 Loc: 0.0409: : 7it [00:09,  1.29s/it]\n",
      "Epoch: 65 Batch 7 Time: 8.5s | Loss: 1.3412 Conf: 0.2352 Loc: 0.0407: : 7it [00:08,  1.22s/it]\n",
      "Epoch: 66 Batch 7 Time: 8.4s | Loss: 1.3292 Conf: 0.2236 Loc: 0.0409: : 7it [00:08,  1.21s/it]\n",
      "Epoch: 67 Batch 7 Time: 8.9s | Loss: 1.3320 Conf: 0.2283 Loc: 0.0395: : 7it [00:08,  1.27s/it]\n",
      "Epoch: 68 Batch 7 Time: 8.9s | Loss: 1.3595 Conf: 0.2556 Loc: 0.0402: : 7it [00:08,  1.27s/it]\n",
      "Epoch: 69 Batch 7 Time: 7.3s | Loss: 1.3337 Conf: 0.2297 Loc: 0.0409: : 7it [00:07,  1.04s/it]\n",
      "Epoch: 70 Batch 7 Time: 8.6s | Loss: 1.3246 Conf: 0.2231 Loc: 0.0389: : 7it [00:08,  1.23s/it]\n",
      "Epoch: 71 Batch 7 Time: 8.6s | Loss: 1.3220 Conf: 0.2187 Loc: 0.0413: : 7it [00:08,  1.23s/it]\n",
      "Epoch: 72 Batch 7 Time: 8.2s | Loss: 1.3268 Conf: 0.2250 Loc: 0.0403: : 7it [00:08,  1.18s/it]\n",
      "Epoch: 73 Batch 7 Time: 8.8s | Loss: 1.3178 Conf: 0.2171 Loc: 0.0393: : 7it [00:08,  1.26s/it]\n",
      "Epoch: 74 Batch 7 Time: 7.8s | Loss: 1.3192 Conf: 0.2186 Loc: 0.0393: : 7it [00:07,  1.11s/it]\n",
      "Epoch: 75 Batch 7 Time: 9.0s | Loss: 1.3151 Conf: 0.2153 Loc: 0.0386: : 7it [00:08,  1.28s/it]\n",
      "Epoch: 76 Batch 7 Time: 9.0s | Loss: 1.3232 Conf: 0.2219 Loc: 0.0401: : 7it [00:08,  1.28s/it]\n",
      "Epoch: 77 Batch 7 Time: 8.8s | Loss: 1.3175 Conf: 0.2166 Loc: 0.0398: : 7it [00:08,  1.26s/it]\n",
      "Epoch: 78 Batch 7 Time: 8.6s | Loss: 1.3214 Conf: 0.2203 Loc: 0.0400: : 7it [00:08,  1.23s/it]\n",
      "Epoch: 79 Batch 7 Time: 8.6s | Loss: 1.3244 Conf: 0.2231 Loc: 0.0402: : 7it [00:08,  1.23s/it]\n",
      "Epoch: 80 Batch 7 Time: 8.9s | Loss: 1.3149 Conf: 0.2139 Loc: 0.0401: : 7it [00:08,  1.28s/it]\n",
      "Epoch: 81 Batch 7 Time: 8.9s | Loss: 1.3202 Conf: 0.2202 Loc: 0.0391: : 7it [00:08,  1.28s/it]\n",
      "Epoch: 82 Batch 7 Time: 8.6s | Loss: 1.3207 Conf: 0.2204 Loc: 0.0394: : 7it [00:08,  1.24s/it]\n",
      "Epoch: 83 Batch 7 Time: 8.8s | Loss: 1.3185 Conf: 0.2186 Loc: 0.0392: : 7it [00:08,  1.26s/it]\n",
      "Epoch: 84 Batch 7 Time: 8.8s | Loss: 1.3137 Conf: 0.2136 Loc: 0.0394: : 7it [00:08,  1.26s/it]\n",
      "Epoch: 85 Batch 7 Time: 8.7s | Loss: 1.3148 Conf: 0.2147 Loc: 0.0395: : 7it [00:08,  1.24s/it]\n",
      "Epoch: 86 Batch 7 Time: 9.0s | Loss: 1.3165 Conf: 0.2159 Loc: 0.0400: : 7it [00:08,  1.28s/it]\n",
      "Epoch: 87 Batch 7 Time: 8.6s | Loss: 1.3175 Conf: 0.2183 Loc: 0.0388: : 7it [00:08,  1.23s/it]\n",
      "Epoch: 88 Batch 7 Time: 8.9s | Loss: 1.3159 Conf: 0.2158 Loc: 0.0397: : 7it [00:08,  1.27s/it]\n",
      "Epoch: 89 Batch 7 Time: 8.7s | Loss: 1.3171 Conf: 0.2179 Loc: 0.0388: : 7it [00:08,  1.25s/it]\n",
      "Epoch: 90 Batch 7 Time: 8.9s | Loss: 1.3118 Conf: 0.2119 Loc: 0.0396: : 7it [00:08,  1.28s/it]\n",
      "Epoch: 91 Batch 7 Time: 8.6s | Loss: 1.3219 Conf: 0.2219 Loc: 0.0397: : 7it [00:08,  1.23s/it]\n",
      "Epoch: 92 Batch 7 Time: 8.9s | Loss: 1.3129 Conf: 0.2134 Loc: 0.0393: : 7it [00:08,  1.27s/it]\n",
      "Epoch: 93 Batch 7 Time: 8.9s | Loss: 1.3277 Conf: 0.2291 Loc: 0.0384: : 7it [00:08,  1.28s/it]\n",
      "Epoch: 94 Batch 7 Time: 8.7s | Loss: 1.3121 Conf: 0.2124 Loc: 0.0397: : 7it [00:08,  1.25s/it]\n",
      "Epoch: 95 Batch 7 Time: 9.1s | Loss: 1.3129 Conf: 0.2143 Loc: 0.0385: : 7it [00:09,  1.30s/it]\n",
      "Epoch: 96 Batch 7 Time: 9.0s | Loss: 1.3132 Conf: 0.2135 Loc: 0.0398: : 7it [00:08,  1.28s/it]\n",
      "Epoch: 97 Batch 7 Time: 8.6s | Loss: 1.3098 Conf: 0.2112 Loc: 0.0387: : 7it [00:08,  1.23s/it]\n",
      "Epoch: 98 Batch 7 Time: 9.1s | Loss: 1.3129 Conf: 0.2117 Loc: 0.0414: : 7it [00:09,  1.29s/it]\n",
      "Epoch: 99 Batch 7 Time: 8.8s | Loss: 1.3135 Conf: 0.2128 Loc: 0.0410: : 7it [00:08,  1.26s/it]\n",
      "Epoch: 100 Batch 7 Time: 8.8s | Loss: 1.3348 Conf: 0.2363 Loc: 0.0388: : 7it [00:08,  1.26s/it]\n"
     ]
    }
   ],
   "source": [
    "!python3 ./model/tensorflow/ssd/train.py --anno-path dataset/digital_digit/anno_digit.txt \\\n",
    "--checkpoint-dir check_points/ssd-digit \\\n",
    "--num-epochs 100 \\\n",
    "--initial-lr 0.001 \\\n",
    "--batch-size 16"
   ]
  },
  {
   "cell_type": "markdown",
   "id": "ed056689-f945-453b-a3ab-7036851fe58e",
   "metadata": {},
   "source": [
    "# Predict"
   ]
  },
  {
   "cell_type": "code",
   "execution_count": 21,
   "id": "420a42cc-5f6b-4cf6-9889-40b803215c5e",
   "metadata": {},
   "outputs": [
    {
     "ename": "ModuleNotFoundError",
     "evalue": "No module named 'resnet'",
     "output_type": "error",
     "traceback": [
      "\u001b[0;31m---------------------------------------------------------------------------\u001b[0m",
      "\u001b[0;31mModuleNotFoundError\u001b[0m                       Traceback (most recent call last)",
      "\u001b[0;32m<ipython-input-21-7e6a56040a0d>\u001b[0m in \u001b[0;36m<module>\u001b[0;34m\u001b[0m\n\u001b[0;32m----> 1\u001b[0;31m \u001b[0;32mfrom\u001b[0m \u001b[0mmodel\u001b[0m\u001b[0;34m.\u001b[0m\u001b[0mtensorflow\u001b[0m\u001b[0;34m.\u001b[0m\u001b[0mssd\u001b[0m\u001b[0;34m.\u001b[0m\u001b[0mnetwork\u001b[0m \u001b[0;32mimport\u001b[0m \u001b[0mcreate_ssd\u001b[0m\u001b[0;34m\u001b[0m\u001b[0;34m\u001b[0m\u001b[0m\n\u001b[0m",
      "\u001b[0;32m/home/workspace/iot_ai_model/model/tensorflow/ssd/network.py\u001b[0m in \u001b[0;36m<module>\u001b[0;34m\u001b[0m\n\u001b[1;32m      6\u001b[0m \u001b[0;32mimport\u001b[0m \u001b[0mos\u001b[0m\u001b[0;34m\u001b[0m\u001b[0;34m\u001b[0m\u001b[0m\n\u001b[1;32m      7\u001b[0m \u001b[0;34m\u001b[0m\u001b[0m\n\u001b[0;32m----> 8\u001b[0;31m \u001b[0;32mfrom\u001b[0m \u001b[0mresnet\u001b[0m \u001b[0;32mimport\u001b[0m \u001b[0mcreate_resnet18_layers\u001b[0m\u001b[0;34m\u001b[0m\u001b[0;34m\u001b[0m\u001b[0m\n\u001b[0m\u001b[1;32m      9\u001b[0m \u001b[0;34m\u001b[0m\u001b[0m\n\u001b[1;32m     10\u001b[0m \u001b[0;32mfrom\u001b[0m \u001b[0mlayers\u001b[0m \u001b[0;32mimport\u001b[0m \u001b[0mcreate_vgg16_layers\u001b[0m\u001b[0;34m,\u001b[0m \u001b[0mcreate_extra_layers\u001b[0m\u001b[0;34m,\u001b[0m \u001b[0mcreate_conf_head_layers\u001b[0m\u001b[0;34m,\u001b[0m \u001b[0mcreate_loc_head_layers\u001b[0m\u001b[0;34m\u001b[0m\u001b[0;34m\u001b[0m\u001b[0m\n",
      "\u001b[0;31mModuleNotFoundError\u001b[0m: No module named 'resnet'"
     ]
    }
   ],
   "source": [
    "from model.tensorflow.ssd.network import create_ssd"
   ]
  },
  {
   "cell_type": "code",
   "execution_count": null,
   "id": "4f4286e5-1a9d-484c-b6e3-9b45751be6e0",
   "metadata": {},
   "outputs": [],
   "source": [
    "file_paths = ['']\n",
    "IMAGE_SIZE = 300"
   ]
  },
  {
   "cell_type": "code",
   "execution_count": null,
   "id": "b27af034-9172-4e2b-a92a-763646b4ee67",
   "metadata": {},
   "outputs": [],
   "source": [
    "model = create_ssd(num_classes=11, arch='ssd300', pretrained_type=None, checkpoint_path='check_points/ssd/ssd_epoch_latest.h5')"
   ]
  },
  {
   "cell_type": "code",
   "execution_count": null,
   "id": "a5a16fb2-38ff-46d7-ac75-18dbc9328a69",
   "metadata": {},
   "outputs": [],
   "source": [
    "org_img = Image.open(filename)\n",
    "img = np.array(org_img.resize((IMAGE_SIZE, IMAGE_SIZE)), dtype=np.float32)\n",
    "img = (img / 127.0) - 1.0\n",
    "img = img.reshape(1,img.shape[0],img.shape[1],img.shape[2])\n",
    "confs, locs = model(img)"
   ]
  }
 ],
 "metadata": {
  "kernelspec": {
   "display_name": "Python 3",
   "language": "python",
   "name": "python3"
  },
  "language_info": {
   "codemirror_mode": {
    "name": "ipython",
    "version": 3
   },
   "file_extension": ".py",
   "mimetype": "text/x-python",
   "name": "python",
   "nbconvert_exporter": "python",
   "pygments_lexer": "ipython3",
   "version": "3.6.9"
  }
 },
 "nbformat": 4,
 "nbformat_minor": 5
}
